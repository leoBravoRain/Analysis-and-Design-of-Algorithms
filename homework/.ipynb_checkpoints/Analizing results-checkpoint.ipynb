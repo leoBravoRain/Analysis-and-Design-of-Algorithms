{
 "cells": [
  {
   "cell_type": "code",
   "execution_count": 1,
   "metadata": {},
   "outputs": [],
   "source": [
    "import pandas as pd\n",
    "import matplotlib.pyplot as plt\n",
    "import numpy as np\n",
    "\n",
    "%matplotlib notebook"
   ]
  },
  {
   "cell_type": "code",
   "execution_count": 2,
   "metadata": {},
   "outputs": [
    {
     "name": "stdout",
     "output_type": "stream",
     "text": [
      "(2000, 6)\n"
     ]
    },
    {
     "data": {
      "text/html": [
       "<div>\n",
       "<style scoped>\n",
       "    .dataframe tbody tr th:only-of-type {\n",
       "        vertical-align: middle;\n",
       "    }\n",
       "\n",
       "    .dataframe tbody tr th {\n",
       "        vertical-align: top;\n",
       "    }\n",
       "\n",
       "    .dataframe thead th {\n",
       "        text-align: right;\n",
       "    }\n",
       "</style>\n",
       "<table border=\"1\" class=\"dataframe\">\n",
       "  <thead>\n",
       "    <tr style=\"text-align: right;\">\n",
       "      <th></th>\n",
       "      <th>0</th>\n",
       "      <th>1</th>\n",
       "      <th>2</th>\n",
       "      <th>3</th>\n",
       "      <th>4</th>\n",
       "      <th>5</th>\n",
       "    </tr>\n",
       "  </thead>\n",
       "  <tbody>\n",
       "    <tr>\n",
       "      <th>0</th>\n",
       "      <td>0.000098</td>\n",
       "      <td>0.002043</td>\n",
       "      <td>0.002056</td>\n",
       "      <td>0.002030</td>\n",
       "      <td>0.002067</td>\n",
       "      <td>0.002230</td>\n",
       "    </tr>\n",
       "    <tr>\n",
       "      <th>1</th>\n",
       "      <td>0.000158</td>\n",
       "      <td>0.002379</td>\n",
       "      <td>0.002326</td>\n",
       "      <td>0.002323</td>\n",
       "      <td>0.002281</td>\n",
       "      <td>0.002258</td>\n",
       "    </tr>\n",
       "    <tr>\n",
       "      <th>2</th>\n",
       "      <td>0.000245</td>\n",
       "      <td>0.002099</td>\n",
       "      <td>0.002282</td>\n",
       "      <td>0.002213</td>\n",
       "      <td>0.002167</td>\n",
       "      <td>0.002478</td>\n",
       "    </tr>\n",
       "    <tr>\n",
       "      <th>3</th>\n",
       "      <td>0.000330</td>\n",
       "      <td>0.002147</td>\n",
       "      <td>0.002317</td>\n",
       "      <td>0.002275</td>\n",
       "      <td>0.002228</td>\n",
       "      <td>0.002087</td>\n",
       "    </tr>\n",
       "    <tr>\n",
       "      <th>4</th>\n",
       "      <td>0.000371</td>\n",
       "      <td>0.002371</td>\n",
       "      <td>0.002271</td>\n",
       "      <td>0.002187</td>\n",
       "      <td>0.002444</td>\n",
       "      <td>0.002338</td>\n",
       "    </tr>\n",
       "  </tbody>\n",
       "</table>\n",
       "</div>"
      ],
      "text/plain": [
       "          0         1         2         3         4         5\n",
       "0  0.000098  0.002043  0.002056  0.002030  0.002067  0.002230\n",
       "1  0.000158  0.002379  0.002326  0.002323  0.002281  0.002258\n",
       "2  0.000245  0.002099  0.002282  0.002213  0.002167  0.002478\n",
       "3  0.000330  0.002147  0.002317  0.002275  0.002228  0.002087\n",
       "4  0.000371  0.002371  0.002271  0.002187  0.002444  0.002338"
      ]
     },
     "execution_count": 2,
     "metadata": {},
     "output_type": "execute_result"
    }
   ],
   "source": [
    "# df = pd.read_csv('times.csv', sep = ',', header = None)\n",
    "# df_BF = pd.read_csv('times_BF_english', sep = ',', header = None)\n",
    "# df_SA = pd.read_csv('times_SA_english', sep = ',', header = None)\n",
    "# df_ST = pd.read_csv('times_ST_english', sep = ',', header = None)\n",
    "\n",
    "# Wrong behavior\n",
    "df_BF = pd.read_csv('times_BF_english_50k_2k', sep = ',', header = None) # name_text_lenght_reapts\n",
    "df_SA = pd.read_csv('times_SA_english_50k_2k', sep = ',', header = None)# name_text_lenght_reapts\n",
    "df_ST = pd.read_csv('times_ST_english_50k_2k', sep = ',', header = None)# name_text_lenght_reapts\n",
    "\n",
    "# This is the better\n",
    "# df_BF = pd.read_csv('times_BF_english_80k_2k', sep = ',', header = None) # name_text_lenght_reapts\n",
    "# df_SA = pd.read_csv('times_SA_english_80k_2k', sep = ',', header = None)# name_text_lenght_reapts\n",
    "# df_ST = pd.read_csv('times_ST_english_80k_2k', sep = ',', header = None)# name_text_lenght_reapts\n",
    "\n",
    "# # Wrong behavior\n",
    "# df_BF = pd.read_csv('times_BF_english_90k_2k', sep = ',', header = None) # name_text_lenght_reapts\n",
    "# df_SA = pd.read_csv('times_SA_english_90k_2k', sep = ',', header = None)# name_text_lenght_reapts\n",
    "# df_ST = pd.read_csv('times_ST_english_90k_2k', sep = ',', header = None)# name_text_lenght_reapts\n",
    "\n",
    "# Number of experiments\n",
    "exp = [2, 4, 8, 16, 32, 64]\n",
    "nump_exp = len(exp)\n",
    "\n",
    "# df.head()\n",
    "df_BF = df_BF.iloc[:,0:nump_exp]\n",
    "df_SA = df_SA.iloc[:,0:nump_exp]\n",
    "df_ST = df_ST.iloc[:,0:nump_exp]\n",
    "# print(df.describe())\n",
    "\n",
    "data_BF = df_BF.values\n",
    "data_SA = df_SA.values\n",
    "data_ST = df_ST.values\n",
    "\n",
    "print(data_BF.shape)\n",
    "\n",
    "df_ST.head()"
   ]
  },
  {
   "cell_type": "code",
   "execution_count": 3,
   "metadata": {},
   "outputs": [
    {
     "data": {
      "text/plain": [
       "Text(0, 0.5, 'Execution time')"
      ]
     },
     "execution_count": 3,
     "metadata": {},
     "output_type": "execute_result"
    },
    {
     "data": {
      "image/png": "[encoded data removed]",
      "text/plain": [
       "<Figure size 432x288 with 1 Axes>"
      ]
     },
     "metadata": {
      "needs_background": "light"
     },
     "output_type": "display_data"
    }
   ],
   "source": [
    "mean_bf = data_BF.mean(axis = 0)\n",
    "mean_st = data_ST.mean(axis = 0)\n",
    "mean_sa = data_SA.mean(axis = 0)\n",
    "\n",
    "speedup_st = mean_bf/mean_st\n",
    "speedup_sa = mean_bf/mean_sa\n",
    "\n",
    "init = 2\n",
    "\n",
    "# plotting results of means\n",
    "fig, ax = plt.subplots()\n",
    "ax.plot(exp[init:6],mean_bf[init:6], label = 'brute force')\n",
    "ax.plot(exp[init:6],mean_st[init:6], label = 'suffix tree')\n",
    "ax.plot(exp[init:6],mean_sa[init:6], label = 'suffix array')\n",
    "ax.legend()\n",
    "ax.title.set_text('Execution time depending on length of pattern')\n",
    "ax.set_xlabel('Length of pattern')\n",
    "ax.set_ylabel('Execution time')"
   ]
  },
  {
   "cell_type": "markdown",
   "metadata": {},
   "source": [
    "Considerando el texto \"english.10MB\", se toma un texto de tamaño 20.000 (comenzando desde el caracter inicial hasta el caracter 20.000) el cual va a ser analizado. Se realizan 6 experimentos, en donde en cada experimento se considera un largo del patrón diferente. Los largos considerados son 4, 8, 16, 32, 64. En cada experimento se realizan 3.000 repeticiones, en donde en cada repetición se escoge un patrón aleatorio de tamaño constante.\n",
    "\n",
    "Los resultados son presentados a continuación, en donde se tienen los promedios de cada experimento en función del largo del patrón. Se observa que a medida que aumenta el largo del patrón, el tiempo de ejecución para los 3 métodos aumenta, esto ya que se debe realizar mayor número de comparaciones.\n",
    "\n",
    "Por otro lado, al observar los tiempos de ejecución de cada implementación, se tiene que para todos los largo de patrón analizados, el mayor tiempo de ejecución siempre se obtiene mediante el algoritmo de fuerza bruta. \n",
    "\n",
    "Al comparar entre suffix tree y suffix array, se tiene que el tiempo de ejecución es mayor para el suffix array (para todo largo analizado).\n",
    "\n",
    "Además cabe destacar que para largo de patron de 16, se tiene el máximo timepo de ejecución, y que luego de este valor el tiempo disminuye, llegando incluso a mantener de forma constante su valor para largos superiores a 16."
   ]
  },
  {
   "cell_type": "markdown",
   "metadata": {},
   "source": [
    "Producto de que se está haciendo un mejor uso de los recursos computacionales, se analiza el speedup de cada implementación, considerando que el caso base corresponde al algoritmo brute force. Los resultados son presentados en el siguiente gráfico, en donde se observa que la implementación utilizando suffix array logra una aceleración máxima de 1,18. Para el caso de la utilización del suffix tree, se tiene un speedup de 1,36, superando el valor logrado por suffix array."
   ]
  },
  {
   "cell_type": "code",
   "execution_count": 4,
   "metadata": {},
   "outputs": [
    {
     "data": {
      "text/plain": [
       "Text(0, 0.5, 'Execution time')"
      ]
     },
     "execution_count": 4,
     "metadata": {},
     "output_type": "execute_result"
    },
    {
     "data": {
      "image/png": "[encoded data removed]",
      "text/plain": [
       "<Figure size 432x288 with 1 Axes>"
      ]
     },
     "metadata": {
      "needs_background": "light"
     },
     "output_type": "display_data"
    }
   ],
   "source": [
    "# plotting results of speed up\n",
    "fig, ax = plt.subplots()\n",
    "ax.plot(exp[init:6],speedup_st[init:6], label = 'suffix tree')\n",
    "ax.plot(exp[init:6],speedup_sa[init:6], label = 'suffix array')\n",
    "# ax.plot(exp[1:6],mean_sa[1:6], label = 'suffix array')\n",
    "ax.legend()\n",
    "ax.title.set_text('Speedup depending on length of pattern')\n",
    "ax.set_xlabel('Length of pattern')\n",
    "ax.set_ylabel('Execution time')"
   ]
  },
  {
   "cell_type": "markdown",
   "metadata": {},
   "source": [
    "De los resultados obtenidos se logra concluir que para la resolución del mismo problema, en este caso pattern matching, se pueden obtener mejores tiempos de ejecución considerando estructuras de datos adecuadas para almacenar los datos y lograr ejecutar el matching de forma eficiente. \n",
    "\n",
    "Los resultados indican que utilizando estructuras adecuadas y algoritmos de búsqueda apropiados para las estructuras, se pueden lograr aceleraciones de hasta 1,36 veces (comparados con la solución utilizando fuerza bruta)."
   ]
  },
  {
   "cell_type": "code",
   "execution_count": 19,
   "metadata": {},
   "outputs": [],
   "source": [
    "# Wrong behavior\n",
    "df_SA = pd.read_csv('size_SA_vs_text', sep = ',', header = None) # name_text_lenght_reapts\n",
    "# df_SA = pd.read_csv('times_SA_english_50k_2k', sep = ',', header = None)# name_text_lenght_reapts\n",
    "# df_ST = pd.read_csv('times_ST_english_50k_2k', sep = ',', header = None)# name_text_lenght_reapts\n",
    "\n",
    "# This is the better\n",
    "# df_BF = pd.read_csv('times_BF_english_80k_2k', sep = ',', header = None) # name_text_lenght_reapts\n",
    "# df_SA = pd.read_csv('times_SA_english_80k_2k', sep = ',', header = None)# name_text_lenght_reapts\n",
    "# df_ST = pd.read_csv('times_ST_english_80k_2k', sep = ',', header = None)# name_text_lenght_reapts\n",
    "\n",
    "# # Wrong behavior\n",
    "# df_BF = pd.read_csv('times_BF_english_90k_2k', sep = ',', header = None) # name_text_lenght_reapts\n",
    "# df_SA = pd.read_csv('times_SA_english_90k_2k', sep = ',', header = None)# name_text_lenght_reapts\n",
    "# df_ST = pd.read_csv('times_ST_english_90k_2k', sep = ',', header = None)# name_text_lenght_reapts\n",
    "\n",
    "# # Number of experiments\n",
    "# exp = [2, 4, 8, 16, 32, 64]\n",
    "# nump_exp = len(exp)\n",
    "\n",
    "# # df.head()\n",
    "df_SA = df_SA.iloc[:,0:2]\n",
    "# df_SA = df_SA.iloc[:,0:nump_exp]\n",
    "# df_ST = df_ST.iloc[:,0:nump_exp]\n",
    "# # print(df.describe())\n",
    "\n",
    "# data_BF = df_BF.vsalues\n",
    "data_SA = df_SA.values\n",
    "# data_ST = df_ST.values"
   ]
  },
  {
   "cell_type": "code",
   "execution_count": 20,
   "metadata": {},
   "outputs": [
    {
     "data": {
      "text/plain": [
       "Text(0, 0.5, 'Size [kB]')"
      ]
     },
     "execution_count": 20,
     "metadata": {},
     "output_type": "execute_result"
    },
    {
     "data": {
      "image/png": "[encoded data removed]",
      "text/plain": [
       "<Figure size 432x288 with 1 Axes>"
      ]
     },
     "metadata": {
      "needs_background": "light"
     },
     "output_type": "display_data"
    }
   ],
   "source": [
    "# Plot size v/s text size\n",
    "\n",
    "# plotting results of means\n",
    "fig, ax = plt.subplots()\n",
    "ax.plot(data_SA[:,0], data_SA[:,1]/1000, label = 'suffix array')\n",
    "# ax.plot(exp[init:6],mean_st[init:6], label = 'suffix tree')\n",
    "# ax.plot(exp[init:6],mean_sa[init:6], label = 'suffix array')\n",
    "ax.legend()\n",
    "ax.title.set_text('Size depend on length of text')\n",
    "ax.set_xlabel('Length of text')\n",
    "ax.set_ylabel('Size [kB]')"
   ]
  },
  {
   "cell_type": "markdown",
   "metadata": {},
   "source": [
    "Al observar el tamaño del suffix array, se tiene que es proporcional al largo del texto. Esto es totalmente esperable ya que el array debe contener los n sufijos del texto de largo n. Cabe destacar además, que este espacio es un espacio adicional que se debe utilizar para almacenar la estructura, lo que no ocurre para el caso del algoritmo de fuerza bruta, el cual no debe utilizar espacio adicional.\n",
    "\n",
    "FALTA AGREGAR SIZE DE SUFFIX TREE Y COMPARAR ENTRE ESTRUCTURAS."
   ]
  },
  {
   "cell_type": "markdown",
   "metadata": {},
   "source": [
    "FALTA AGREGAR ANALISIS DE TEXTO FIBONACCI Y REPETIR MISMO ANALISIS ANTERIOR"
   ]
  },
  {
   "cell_type": "markdown",
   "metadata": {},
   "source": [
    "AGREGAR CONCLUSION FINAL"
   ]
  }
 ],
 "metadata": {
  "kernelspec": {
   "display_name": "Python 3",
   "language": "python",
   "name": "python3"
  },
  "language_info": {
   "codemirror_mode": {
    "name": "ipython",
    "version": 3
   },
   "file_extension": ".py",
   "mimetype": "text/x-python",
   "name": "python",
   "nbconvert_exporter": "python",
   "pygments_lexer": "ipython3",
   "version": "3.6.7"
  }
 },
 "nbformat": 4,
 "nbformat_minor": 2
}
